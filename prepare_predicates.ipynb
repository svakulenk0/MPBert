{
 "cells": [
  {
   "cell_type": "code",
   "execution_count": null,
   "metadata": {},
   "outputs": [],
   "source": [
    "# load graph\n",
    "from hdt_utils import HDT_Graph\n",
    "wikidata = HDT_Graph('wikidata2020')"
   ]
  },
  {
   "cell_type": "code",
   "execution_count": null,
   "metadata": {},
   "outputs": [],
   "source": [
    "# load all predicate labels\n",
    "from wikidata_predicates import predicates\n",
    "\n",
    "not_found = []\n",
    "relationid2label = {}\n",
    "for p in predicates['results']['bindings']:\n",
    "    label = p['propertyLabel']['value']\n",
    "    key = p['property']['value'].split('/')[-1]\n",
    "    _id = wikidata.look_up_id(key, 'predicate')\n",
    "    if _id == 0:\n",
    "        not_found.append(label)\n",
    "    else:\n",
    "        relationid2label[_id] = label\n",
    "\n",
    "print(\"%d predicates found\" % len(relationid2label))\n",
    "print(\"%d predicates not found\" % len(not_found))"
   ]
  },
  {
   "cell_type": "code",
   "execution_count": null,
   "metadata": {},
   "outputs": [],
   "source": [
    "print(relationid2label)"
   ]
  },
  {
   "cell_type": "code",
   "execution_count": null,
   "metadata": {},
   "outputs": [],
   "source": []
  }
 ],
 "metadata": {
  "kernelspec": {
   "display_name": "transformers",
   "language": "python",
   "name": "transformers"
  },
  "language_info": {
   "codemirror_mode": {
    "name": "ipython",
    "version": 3
   },
   "file_extension": ".py",
   "mimetype": "text/x-python",
   "name": "python",
   "nbconvert_exporter": "python",
   "pygments_lexer": "ipython3",
   "version": "3.8.1"
  }
 },
 "nbformat": 4,
 "nbformat_minor": 2
}
