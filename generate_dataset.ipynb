{
 "cells": [
  {
   "cell_type": "code",
   "execution_count": 33,
   "metadata": {},
   "outputs": [
    {
     "name": "stdout",
     "output_type": "stream",
     "text": [
      "6994\n"
     ]
    }
   ],
   "source": [
    "# generate synthetic dataset\n",
    "import random\n",
    "import numpy as np\n",
    "\n",
    "from predicates_dictionary import predicates\n",
    "\n",
    "# max number of entities in the subgraph\n",
    "MINN = 20\n",
    "MAXN = 200\n",
    "\n",
    "N_PREDICATES = 10\n",
    "\n",
    "samples = []\n",
    "# generate questions using predicate labels as seeds\n",
    "for p_id, p_label in predicates.items():\n",
    "    # prepare sample\n",
    "    adjacencies, p_labels = [], []\n",
    "    \n",
    "    q = 'who is %s?' % p_label\n",
    "    \n",
    "    # generate random subgraph\n",
    "    n = np.random.randint(MINN, MAXN+1)\n",
    "    \n",
    "    # pick a seed at random\n",
    "    seed = np.random.randint(0, n)\n",
    "    \n",
    "    # pick an answer at random which is not a seed\n",
    "    answer = seed\n",
    "    while answer == seed:\n",
    "        answer = np.random.randint(0, n)\n",
    "    \n",
    "    p_labels = random.sample(list(predicates.values()), N_PREDICATES)\n",
    "    p_labels.append(p_label)\n",
    "    p_labels = list(set(p_labels))\n",
    "    \n",
    "    # generate other adjacency matrices of the same size for other predicates\n",
    "    for p in p_labels:\n",
    "        adjacency = np.random.randint(0, 2, (n,n))\n",
    "        if p == p_label:\n",
    "            # make sure there is an edge between the answer and the seed for the correct predicate\n",
    "            adjacency[seed][answer] = 1\n",
    "        adjacencies.append(adjacency)\n",
    "    \n",
    "    assert len(adjacencies) == len(p_labels)\n",
    "    \n",
    "    samples.append([q, p_labels, adjacencies, seed, answer])\n",
    "#     break\n",
    "    \n",
    "print(len(samples))"
   ]
  },
  {
   "cell_type": "code",
   "execution_count": 37,
   "metadata": {},
   "outputs": [
    {
     "name": "stdout",
     "output_type": "stream",
     "text": [
      "who is member of sports team?\n"
     ]
    }
   ],
   "source": [
    "# show sample\n",
    "q, p_labels, adjacencies, seed, answer = samples[27]\n",
    "print(q)"
   ]
  },
  {
   "cell_type": "code",
   "execution_count": null,
   "metadata": {},
   "outputs": [],
   "source": []
  }
 ],
 "metadata": {
  "kernelspec": {
   "display_name": "transformers",
   "language": "python",
   "name": "transformers"
  },
  "language_info": {
   "codemirror_mode": {
    "name": "ipython",
    "version": 3
   },
   "file_extension": ".py",
   "mimetype": "text/x-python",
   "name": "python",
   "nbconvert_exporter": "python",
   "pygments_lexer": "ipython3",
   "version": "3.8.1"
  }
 },
 "nbformat": 4,
 "nbformat_minor": 2
}
